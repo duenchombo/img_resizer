{
 "cells": [
  {
   "cell_type": "code",
   "execution_count": 1,
   "metadata": {},
   "outputs": [],
   "source": [
    "from PIL import Image\n",
    "import os\n"
   ]
  },
  {
   "cell_type": "code",
   "execution_count": 26,
   "metadata": {},
   "outputs": [
    {
     "name": "stdout",
     "output_type": "stream",
     "text": [
      "the path to image is c:\\Users\\user\\Desktop\\j.jpg\n",
      "the output of path to image is c:\\Users\\user\\Desktop\\jackie\\jackie.jpeg\n"
     ]
    }
   ],
   "source": [
    "path_img=r'c:\\Users\\user\\Desktop\\j.jpg'\n",
    "\n",
    "out_put_img=r'c:\\Users\\user\\Desktop\\jackie\\jackie.jpeg'\n",
    "out_put_img_U=r'c:\\Users\\user\\Desktop\\jackie.jpeg'\n",
    "\n",
    "if not os.path.exists(out_put_img):\n",
    "    os.mkdir(out_put_img)\n",
    "print(f\"the path to image is {path_img}\")\n",
    "print(f\"the output of path to image is {out_put_img}\")"
   ]
  },
  {
   "cell_type": "code",
   "execution_count": 28,
   "metadata": {},
   "outputs": [],
   "source": [
    "def image_rescale(path_img_def,out_put_def,width,height,format_img):\n",
    "    \n",
    "    format_img.upper()\n",
    "    im=Image.open(path_img_def)\n",
    "    # im=im.rotate(90)\n",
    "    im=im.resize((width,height))\n",
    "    im.save(out_put_def,format_img)\n",
    "    im.show()\n",
    "    print(f\"your image has been rescaled by a width of {width} amd height of {height} and saved at {out_put_img}\")\n",
    "\n"
   ]
  },
  {
   "cell_type": "code",
   "execution_count": 29,
   "metadata": {},
   "outputs": [],
   "source": [
    "# image_rescale(path_img,out_put_img,600,600,\"jpeg\")"
   ]
  },
  {
   "cell_type": "code",
   "execution_count": 32,
   "metadata": {},
   "outputs": [],
   "source": [
    "im=Image.open(path_img)\n",
    "# im=im.rotate(90)\n",
    "im=im.resize((600,600))\n",
    "im.save(out_put_img_U,\"JPEG\",quality=150)\n",
    "im.show()"
   ]
  }
 ],
 "metadata": {
  "kernelspec": {
   "display_name": "Python 3",
   "language": "python",
   "name": "python3"
  },
  "language_info": {
   "codemirror_mode": {
    "name": "ipython",
    "version": 3
   },
   "file_extension": ".py",
   "mimetype": "text/x-python",
   "name": "python",
   "nbconvert_exporter": "python",
   "pygments_lexer": "ipython3",
   "version": "3.11.5"
  }
 },
 "nbformat": 4,
 "nbformat_minor": 2
}
